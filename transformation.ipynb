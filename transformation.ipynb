{
 "cells": [
  {
   "cell_type": "code",
   "execution_count": 1,
   "id": "b761b74a",
   "metadata": {},
   "outputs": [],
   "source": [
    "import pandas as pd\n",
    "import numpy as np\n",
    "from sklearn.feature_extraction.text import TfidfVectorizer"
   ]
  },
  {
   "cell_type": "code",
   "execution_count": 2,
   "id": "d13f921e",
   "metadata": {},
   "outputs": [],
   "source": [
    "df_v1 = pd.read_excel('preprocessed_lemmatization.xlsx')\n",
    "df_v2 = pd.read_excel('preprocessed_stemming.xlsx')"
   ]
  },
  {
   "cell_type": "code",
   "execution_count": 3,
   "id": "57d0611f",
   "metadata": {},
   "outputs": [],
   "source": [
    "df_v1.fillna('', inplace=True)\n",
    "df_v2.fillna('', inplace=True)"
   ]
  },
  {
   "cell_type": "code",
   "execution_count": 4,
   "id": "b8ca755e",
   "metadata": {},
   "outputs": [
    {
     "data": {
      "text/html": [
       "<div>\n",
       "<style scoped>\n",
       "    .dataframe tbody tr th:only-of-type {\n",
       "        vertical-align: middle;\n",
       "    }\n",
       "\n",
       "    .dataframe tbody tr th {\n",
       "        vertical-align: top;\n",
       "    }\n",
       "\n",
       "    .dataframe thead th {\n",
       "        text-align: right;\n",
       "    }\n",
       "</style>\n",
       "<table border=\"1\" class=\"dataframe\">\n",
       "  <thead>\n",
       "    <tr style=\"text-align: right;\">\n",
       "      <th></th>\n",
       "      <th>antecedente</th>\n",
       "      <th>comportamento</th>\n",
       "      <th>consequencia</th>\n",
       "      <th>processo</th>\n",
       "      <th>efeito</th>\n",
       "    </tr>\n",
       "  </thead>\n",
       "  <tbody>\n",
       "    <tr>\n",
       "      <th>0</th>\n",
       "      <td>problema conflito relacionamento interpessoal</td>\n",
       "      <td>conversar aproximar expressar sentimento opinião</td>\n",
       "      <td>crítico represália</td>\n",
       "      <td>p+</td>\n",
       "      <td>tristeza</td>\n",
       "    </tr>\n",
       "    <tr>\n",
       "      <th>1</th>\n",
       "      <td>problema conflito relacionamento interpessoal</td>\n",
       "      <td>conversar aproximar expressar sentimento opinião</td>\n",
       "      <td>problema continuar</td>\n",
       "      <td>p+</td>\n",
       "      <td>insegurança</td>\n",
       "    </tr>\n",
       "    <tr>\n",
       "      <th>2</th>\n",
       "      <td>problema conflito relacionamento interpessoal</td>\n",
       "      <td>conversar aproximar expressar sentimento opinião</td>\n",
       "      <td>interessar atenção pessoa</td>\n",
       "      <td>ext</td>\n",
       "      <td>frustração</td>\n",
       "    </tr>\n",
       "    <tr>\n",
       "      <th>3</th>\n",
       "      <td>conflito relacionamento amoroso presença namorar</td>\n",
       "      <td>patrício converso namorar sobrar incomodar</td>\n",
       "      <td>mudo assunto preferir deixar acontecer</td>\n",
       "      <td>ext</td>\n",
       "      <td>tristeza frustração insegurança</td>\n",
       "    </tr>\n",
       "    <tr>\n",
       "      <th>4</th>\n",
       "      <td>conflito relacionamento amoroso presença namorar</td>\n",
       "      <td>patrício converso namorar sobrar incomodar</td>\n",
       "      <td>repetição problema ocorrência problema relacio...</td>\n",
       "      <td>p+</td>\n",
       "      <td>tristeza frustração insegurança</td>\n",
       "    </tr>\n",
       "  </tbody>\n",
       "</table>\n",
       "</div>"
      ],
      "text/plain": [
       "                                        antecedente  \\\n",
       "0     problema conflito relacionamento interpessoal   \n",
       "1     problema conflito relacionamento interpessoal   \n",
       "2     problema conflito relacionamento interpessoal   \n",
       "3  conflito relacionamento amoroso presença namorar   \n",
       "4  conflito relacionamento amoroso presença namorar   \n",
       "\n",
       "                                      comportamento  \\\n",
       "0  conversar aproximar expressar sentimento opinião   \n",
       "1  conversar aproximar expressar sentimento opinião   \n",
       "2  conversar aproximar expressar sentimento opinião   \n",
       "3        patrício converso namorar sobrar incomodar   \n",
       "4        patrício converso namorar sobrar incomodar   \n",
       "\n",
       "                                        consequencia processo  \\\n",
       "0                                 crítico represália       p+   \n",
       "1                                 problema continuar       p+   \n",
       "2                          interessar atenção pessoa      ext   \n",
       "3             mudo assunto preferir deixar acontecer      ext   \n",
       "4  repetição problema ocorrência problema relacio...       p+   \n",
       "\n",
       "                            efeito  \n",
       "0                         tristeza  \n",
       "1                      insegurança  \n",
       "2                       frustração  \n",
       "3  tristeza frustração insegurança  \n",
       "4  tristeza frustração insegurança  "
      ]
     },
     "execution_count": 4,
     "metadata": {},
     "output_type": "execute_result"
    }
   ],
   "source": [
    "df_v1.head()"
   ]
  },
  {
   "cell_type": "code",
   "execution_count": 5,
   "id": "ae0733cf",
   "metadata": {},
   "outputs": [
    {
     "data": {
      "text/html": [
       "<div>\n",
       "<style scoped>\n",
       "    .dataframe tbody tr th:only-of-type {\n",
       "        vertical-align: middle;\n",
       "    }\n",
       "\n",
       "    .dataframe tbody tr th {\n",
       "        vertical-align: top;\n",
       "    }\n",
       "\n",
       "    .dataframe thead th {\n",
       "        text-align: right;\n",
       "    }\n",
       "</style>\n",
       "<table border=\"1\" class=\"dataframe\">\n",
       "  <thead>\n",
       "    <tr style=\"text-align: right;\">\n",
       "      <th></th>\n",
       "      <th>antecedente</th>\n",
       "      <th>comportamento</th>\n",
       "      <th>consequencia</th>\n",
       "      <th>processo</th>\n",
       "      <th>efeito</th>\n",
       "    </tr>\n",
       "  </thead>\n",
       "  <tbody>\n",
       "    <tr>\n",
       "      <th>0</th>\n",
       "      <td>problem conflit relacion interpesso</td>\n",
       "      <td>convers aproxim express sent opin</td>\n",
       "      <td>crít represál</td>\n",
       "      <td>p+</td>\n",
       "      <td>trist</td>\n",
       "    </tr>\n",
       "    <tr>\n",
       "      <th>1</th>\n",
       "      <td>problem conflit relacion interpesso</td>\n",
       "      <td>convers aproxim express sent opin</td>\n",
       "      <td>problem continu</td>\n",
       "      <td>p+</td>\n",
       "      <td>inseguranç</td>\n",
       "    </tr>\n",
       "    <tr>\n",
       "      <th>2</th>\n",
       "      <td>problem conflit relacion interpesso</td>\n",
       "      <td>convers aproxim express sent opin</td>\n",
       "      <td>pouc inter pouc atenç pesso</td>\n",
       "      <td>ext</td>\n",
       "      <td>frustr</td>\n",
       "    </tr>\n",
       "    <tr>\n",
       "      <th>3</th>\n",
       "      <td>conflit relacion amor presenç namor</td>\n",
       "      <td>patríc convers namor sobr incomod</td>\n",
       "      <td>mud assunt pref deix cois acontec</td>\n",
       "      <td>ext</td>\n",
       "      <td>trist frustr inseguranç</td>\n",
       "    </tr>\n",
       "    <tr>\n",
       "      <th>4</th>\n",
       "      <td>conflit relacion amor presenç namor</td>\n",
       "      <td>patríc convers namor sobr incomod</td>\n",
       "      <td>repet problem ocorr nov problem relacion</td>\n",
       "      <td>p+</td>\n",
       "      <td>trist frustr inseguranç</td>\n",
       "    </tr>\n",
       "  </tbody>\n",
       "</table>\n",
       "</div>"
      ],
      "text/plain": [
       "                           antecedente                      comportamento  \\\n",
       "0  problem conflit relacion interpesso  convers aproxim express sent opin   \n",
       "1  problem conflit relacion interpesso  convers aproxim express sent opin   \n",
       "2  problem conflit relacion interpesso  convers aproxim express sent opin   \n",
       "3  conflit relacion amor presenç namor  patríc convers namor sobr incomod   \n",
       "4  conflit relacion amor presenç namor  patríc convers namor sobr incomod   \n",
       "\n",
       "                               consequencia processo                   efeito  \n",
       "0                             crít represál       p+                    trist  \n",
       "1                           problem continu       p+               inseguranç  \n",
       "2               pouc inter pouc atenç pesso      ext                   frustr  \n",
       "3         mud assunt pref deix cois acontec      ext  trist frustr inseguranç  \n",
       "4  repet problem ocorr nov problem relacion       p+  trist frustr inseguranç  "
      ]
     },
     "execution_count": 5,
     "metadata": {},
     "output_type": "execute_result"
    }
   ],
   "source": [
    "df_v2.head()"
   ]
  },
  {
   "cell_type": "code",
   "execution_count": 6,
   "id": "f751ddb2",
   "metadata": {},
   "outputs": [],
   "source": [
    "x_v1 = df_v1.drop('processo', axis=1)\n",
    "y_v1 = df_v1['processo']"
   ]
  },
  {
   "cell_type": "code",
   "execution_count": 7,
   "id": "c4ad686f",
   "metadata": {},
   "outputs": [],
   "source": [
    "x_v2 = df_v2.drop('processo', axis=1)\n",
    "y_v2 = df_v2['processo']"
   ]
  },
  {
   "cell_type": "markdown",
   "id": "4f24766f",
   "metadata": {},
   "source": [
    "### Passo 1: Extração do atributo TF-IDF"
   ]
  },
  {
   "cell_type": "code",
   "execution_count": 8,
   "id": "4b202dc6",
   "metadata": {},
   "outputs": [],
   "source": [
    "tfidf_v1 = TfidfVectorizer()\n",
    "tfidf_v2 = TfidfVectorizer()"
   ]
  },
  {
   "cell_type": "code",
   "execution_count": 9,
   "id": "28e594a1",
   "metadata": {},
   "outputs": [],
   "source": [
    "x_concat_v1 = x_v1['antecedente'] + '\\n' + x_v1['comportamento'] + '\\n' + x_v1['consequencia'] + '\\n' + x_v1['efeito']\n",
    "x_concat_v2 = x_v2['antecedente'] + '\\n' + x_v2['comportamento'] + '\\n' + x_v2['consequencia'] + '\\n' + x_v2['efeito']"
   ]
  },
  {
   "cell_type": "code",
   "execution_count": 10,
   "id": "d428add6",
   "metadata": {},
   "outputs": [
    {
     "data": {
      "text/plain": [
       "TfidfVectorizer()"
      ]
     },
     "execution_count": 10,
     "metadata": {},
     "output_type": "execute_result"
    }
   ],
   "source": [
    "tfidf_v1.fit(x_concat_v1)"
   ]
  },
  {
   "cell_type": "code",
   "execution_count": 11,
   "id": "98319e4e",
   "metadata": {},
   "outputs": [
    {
     "data": {
      "text/plain": [
       "TfidfVectorizer()"
      ]
     },
     "execution_count": 11,
     "metadata": {},
     "output_type": "execute_result"
    }
   ],
   "source": [
    "tfidf_v2.fit(x_concat_v2)"
   ]
  },
  {
   "cell_type": "code",
   "execution_count": 12,
   "id": "439745d0",
   "metadata": {},
   "outputs": [],
   "source": [
    "x_tfidf_v1 = {\n",
    "    'antecedente': tfidf_v1.transform(x_v1['antecedente']).todense(),\n",
    "    'comportamento': tfidf_v1.transform(x_v1['comportamento']).todense(),\n",
    "    'consequencia': tfidf_v1.transform(x_v1['consequencia']).todense(),\n",
    "    'efeito': tfidf_v1.transform(x_v1['efeito']).todense()\n",
    "}"
   ]
  },
  {
   "cell_type": "code",
   "execution_count": 13,
   "id": "686e6b6e",
   "metadata": {},
   "outputs": [],
   "source": [
    "x_tfidf_v2 = {\n",
    "    'antecedente': tfidf_v2.transform(x_v2['antecedente']).todense(),\n",
    "    'comportamento': tfidf_v2.transform(x_v2['comportamento']).todense(),\n",
    "    'consequencia': tfidf_v2.transform(x_v2['consequencia']).todense(),\n",
    "    'efeito': tfidf_v2.transform(x_v2['efeito']).todense()\n",
    "}"
   ]
  },
  {
   "cell_type": "code",
   "execution_count": 14,
   "id": "4a05463a",
   "metadata": {},
   "outputs": [],
   "source": [
    "x_features_v1 = np.concatenate(\n",
    "    (x_tfidf_v1['antecedente'],x_tfidf_v1['comportamento'],x_tfidf_v1['consequencia'],x_tfidf_v1['consequencia']), \n",
    "    axis=1\n",
    ")"
   ]
  },
  {
   "cell_type": "code",
   "execution_count": 15,
   "id": "d47951a3",
   "metadata": {},
   "outputs": [],
   "source": [
    "x_features_v2 = np.concatenate(\n",
    "    (x_tfidf_v2['antecedente'],x_tfidf_v2['comportamento'],x_tfidf_v2['consequencia'],x_tfidf_v2['consequencia']), \n",
    "    axis=1\n",
    ")"
   ]
  },
  {
   "cell_type": "code",
   "execution_count": 16,
   "id": "e3c4f371",
   "metadata": {},
   "outputs": [
    {
     "name": "stdout",
     "output_type": "stream",
     "text": [
      "Shape V1 = (185, 2776)\n",
      "Shape V2 = (185, 2708)\n"
     ]
    }
   ],
   "source": [
    "print('Shape V1 = {}'.format(x_features_v1.shape))\n",
    "print('Shape V2 = {}'.format(x_features_v2.shape))"
   ]
  },
  {
   "cell_type": "markdown",
   "id": "f3feee65",
   "metadata": {},
   "source": [
    "### Passo 2: Mapear X para números"
   ]
  },
  {
   "cell_type": "code",
   "execution_count": 17,
   "id": "e02aa653",
   "metadata": {},
   "outputs": [],
   "source": [
    "y_map = {\n",
    "    'p-': 0,\n",
    "    'p+': 1,\n",
    "    'ext': 2,\n",
    "    'r-': 3,\n",
    "    'r+': 4\n",
    "}"
   ]
  },
  {
   "cell_type": "code",
   "execution_count": 18,
   "id": "8e1f7c20",
   "metadata": {},
   "outputs": [],
   "source": [
    "y_code_v1 = y_v1.apply(lambda x: y_map[x])\n",
    "y_code_v2 = y_v1.apply(lambda x: y_map[x])"
   ]
  },
  {
   "cell_type": "code",
   "execution_count": null,
   "id": "f979f667",
   "metadata": {},
   "outputs": [],
   "source": []
  }
 ],
 "metadata": {
  "kernelspec": {
   "display_name": "Python 3 (ipykernel)",
   "language": "python",
   "name": "python3"
  },
  "language_info": {
   "codemirror_mode": {
    "name": "ipython",
    "version": 3
   },
   "file_extension": ".py",
   "mimetype": "text/x-python",
   "name": "python",
   "nbconvert_exporter": "python",
   "pygments_lexer": "ipython3",
   "version": "3.9.6"
  }
 },
 "nbformat": 4,
 "nbformat_minor": 5
}
