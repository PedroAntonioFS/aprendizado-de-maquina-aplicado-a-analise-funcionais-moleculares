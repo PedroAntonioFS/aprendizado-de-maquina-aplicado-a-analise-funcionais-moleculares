{
 "cells": [
  {
   "cell_type": "code",
   "execution_count": 1,
   "id": "b761b74a",
   "metadata": {},
   "outputs": [],
   "source": [
    "import pandas as pd\n",
    "import numpy as np\n",
    "import tensorflow as tf\n",
    "from sklearn.feature_extraction.text import TfidfVectorizer\n",
    "from model_selection import train_test_split_per_class, cross_validation_per_class\n",
    "from sklearn.metrics import classification_report\n",
    "from joblib import dump\n",
    "from statistics import *"
   ]
  },
  {
   "cell_type": "code",
   "execution_count": 2,
   "id": "a42b9d2e",
   "metadata": {},
   "outputs": [],
   "source": [
    "tf.config.run_functions_eagerly(True)"
   ]
  },
  {
   "cell_type": "code",
   "execution_count": 3,
   "id": "d13f921e",
   "metadata": {},
   "outputs": [],
   "source": [
    "df_v1 = pd.read_excel('preprocessed_lemmatization.xlsx')\n",
    "df_v2 = pd.read_excel('preprocessed_stemming.xlsx')"
   ]
  },
  {
   "cell_type": "code",
   "execution_count": 4,
   "id": "57d0611f",
   "metadata": {},
   "outputs": [],
   "source": [
    "df_v1.fillna('', inplace=True)\n",
    "df_v2.fillna('', inplace=True)"
   ]
  },
  {
   "cell_type": "code",
   "execution_count": 5,
   "id": "b8ca755e",
   "metadata": {},
   "outputs": [
    {
     "data": {
      "text/html": [
       "<div>\n",
       "<style scoped>\n",
       "    .dataframe tbody tr th:only-of-type {\n",
       "        vertical-align: middle;\n",
       "    }\n",
       "\n",
       "    .dataframe tbody tr th {\n",
       "        vertical-align: top;\n",
       "    }\n",
       "\n",
       "    .dataframe thead th {\n",
       "        text-align: right;\n",
       "    }\n",
       "</style>\n",
       "<table border=\"1\" class=\"dataframe\">\n",
       "  <thead>\n",
       "    <tr style=\"text-align: right;\">\n",
       "      <th></th>\n",
       "      <th>antecedente</th>\n",
       "      <th>comportamento</th>\n",
       "      <th>consequencia</th>\n",
       "      <th>processo</th>\n",
       "      <th>efeito</th>\n",
       "    </tr>\n",
       "  </thead>\n",
       "  <tbody>\n",
       "    <tr>\n",
       "      <th>0</th>\n",
       "      <td>problema conflito relacionamento interpessoal</td>\n",
       "      <td>conversar aproximar expressar sentimento opinião</td>\n",
       "      <td>crítico represália</td>\n",
       "      <td>p+</td>\n",
       "      <td>tristeza</td>\n",
       "    </tr>\n",
       "    <tr>\n",
       "      <th>1</th>\n",
       "      <td>problema conflito relacionamento interpessoal</td>\n",
       "      <td>conversar aproximar expressar sentimento opinião</td>\n",
       "      <td>problema continuar</td>\n",
       "      <td>p+</td>\n",
       "      <td>insegurança</td>\n",
       "    </tr>\n",
       "    <tr>\n",
       "      <th>2</th>\n",
       "      <td>problema conflito relacionamento interpessoal</td>\n",
       "      <td>conversar aproximar expressar sentimento opinião</td>\n",
       "      <td>interessar atenção pessoa</td>\n",
       "      <td>ext</td>\n",
       "      <td>frustração</td>\n",
       "    </tr>\n",
       "    <tr>\n",
       "      <th>3</th>\n",
       "      <td>conflito relacionamento amoroso presença namorar</td>\n",
       "      <td>patrício converso namorar sobrar incomodar</td>\n",
       "      <td>mudo assunto preferir deixar acontecer</td>\n",
       "      <td>ext</td>\n",
       "      <td>tristeza frustração insegurança</td>\n",
       "    </tr>\n",
       "    <tr>\n",
       "      <th>4</th>\n",
       "      <td>conflito relacionamento amoroso presença namorar</td>\n",
       "      <td>patrício converso namorar sobrar incomodar</td>\n",
       "      <td>repetição problema ocorrência problema relacio...</td>\n",
       "      <td>p+</td>\n",
       "      <td>tristeza frustração insegurança</td>\n",
       "    </tr>\n",
       "  </tbody>\n",
       "</table>\n",
       "</div>"
      ],
      "text/plain": [
       "                                        antecedente  \\\n",
       "0     problema conflito relacionamento interpessoal   \n",
       "1     problema conflito relacionamento interpessoal   \n",
       "2     problema conflito relacionamento interpessoal   \n",
       "3  conflito relacionamento amoroso presença namorar   \n",
       "4  conflito relacionamento amoroso presença namorar   \n",
       "\n",
       "                                      comportamento  \\\n",
       "0  conversar aproximar expressar sentimento opinião   \n",
       "1  conversar aproximar expressar sentimento opinião   \n",
       "2  conversar aproximar expressar sentimento opinião   \n",
       "3        patrício converso namorar sobrar incomodar   \n",
       "4        patrício converso namorar sobrar incomodar   \n",
       "\n",
       "                                        consequencia processo  \\\n",
       "0                                 crítico represália       p+   \n",
       "1                                 problema continuar       p+   \n",
       "2                          interessar atenção pessoa      ext   \n",
       "3             mudo assunto preferir deixar acontecer      ext   \n",
       "4  repetição problema ocorrência problema relacio...       p+   \n",
       "\n",
       "                            efeito  \n",
       "0                         tristeza  \n",
       "1                      insegurança  \n",
       "2                       frustração  \n",
       "3  tristeza frustração insegurança  \n",
       "4  tristeza frustração insegurança  "
      ]
     },
     "execution_count": 5,
     "metadata": {},
     "output_type": "execute_result"
    }
   ],
   "source": [
    "df_v1.head()"
   ]
  },
  {
   "cell_type": "code",
   "execution_count": 6,
   "id": "ae0733cf",
   "metadata": {},
   "outputs": [
    {
     "data": {
      "text/html": [
       "<div>\n",
       "<style scoped>\n",
       "    .dataframe tbody tr th:only-of-type {\n",
       "        vertical-align: middle;\n",
       "    }\n",
       "\n",
       "    .dataframe tbody tr th {\n",
       "        vertical-align: top;\n",
       "    }\n",
       "\n",
       "    .dataframe thead th {\n",
       "        text-align: right;\n",
       "    }\n",
       "</style>\n",
       "<table border=\"1\" class=\"dataframe\">\n",
       "  <thead>\n",
       "    <tr style=\"text-align: right;\">\n",
       "      <th></th>\n",
       "      <th>antecedente</th>\n",
       "      <th>comportamento</th>\n",
       "      <th>consequencia</th>\n",
       "      <th>processo</th>\n",
       "      <th>efeito</th>\n",
       "    </tr>\n",
       "  </thead>\n",
       "  <tbody>\n",
       "    <tr>\n",
       "      <th>0</th>\n",
       "      <td>problem conflit relacion interpesso</td>\n",
       "      <td>convers aproxim express sent opin</td>\n",
       "      <td>crít represál</td>\n",
       "      <td>p+</td>\n",
       "      <td>trist</td>\n",
       "    </tr>\n",
       "    <tr>\n",
       "      <th>1</th>\n",
       "      <td>problem conflit relacion interpesso</td>\n",
       "      <td>convers aproxim express sent opin</td>\n",
       "      <td>problem continu</td>\n",
       "      <td>p+</td>\n",
       "      <td>inseguranç</td>\n",
       "    </tr>\n",
       "    <tr>\n",
       "      <th>2</th>\n",
       "      <td>problem conflit relacion interpesso</td>\n",
       "      <td>convers aproxim express sent opin</td>\n",
       "      <td>inter atenç pesso</td>\n",
       "      <td>ext</td>\n",
       "      <td>frustr</td>\n",
       "    </tr>\n",
       "    <tr>\n",
       "      <th>3</th>\n",
       "      <td>conflit relacion amor presenç namor</td>\n",
       "      <td>patríc convers namor incomod</td>\n",
       "      <td>mud assunt pref deix cois acontec</td>\n",
       "      <td>ext</td>\n",
       "      <td>trist frustr inseguranç</td>\n",
       "    </tr>\n",
       "    <tr>\n",
       "      <th>4</th>\n",
       "      <td>conflit relacion amor presenç namor</td>\n",
       "      <td>patríc convers namor incomod</td>\n",
       "      <td>repet problem ocorr problem relacion</td>\n",
       "      <td>p+</td>\n",
       "      <td>trist frustr inseguranç</td>\n",
       "    </tr>\n",
       "  </tbody>\n",
       "</table>\n",
       "</div>"
      ],
      "text/plain": [
       "                           antecedente                      comportamento  \\\n",
       "0  problem conflit relacion interpesso  convers aproxim express sent opin   \n",
       "1  problem conflit relacion interpesso  convers aproxim express sent opin   \n",
       "2  problem conflit relacion interpesso  convers aproxim express sent opin   \n",
       "3  conflit relacion amor presenç namor       patríc convers namor incomod   \n",
       "4  conflit relacion amor presenç namor       patríc convers namor incomod   \n",
       "\n",
       "                           consequencia processo                   efeito  \n",
       "0                         crít represál       p+                    trist  \n",
       "1                       problem continu       p+               inseguranç  \n",
       "2                     inter atenç pesso      ext                   frustr  \n",
       "3     mud assunt pref deix cois acontec      ext  trist frustr inseguranç  \n",
       "4  repet problem ocorr problem relacion       p+  trist frustr inseguranç  "
      ]
     },
     "execution_count": 6,
     "metadata": {},
     "output_type": "execute_result"
    }
   ],
   "source": [
    "df_v2.head()"
   ]
  },
  {
   "cell_type": "code",
   "execution_count": 7,
   "id": "f751ddb2",
   "metadata": {},
   "outputs": [],
   "source": [
    "x_v1 = df_v1.drop('processo', axis=1)\n",
    "y_v1 = df_v1['processo']"
   ]
  },
  {
   "cell_type": "code",
   "execution_count": 8,
   "id": "c4ad686f",
   "metadata": {},
   "outputs": [],
   "source": [
    "x_v2 = df_v2.drop('processo', axis=1)\n",
    "y_v2 = df_v2['processo']"
   ]
  },
  {
   "cell_type": "markdown",
   "id": "4f24766f",
   "metadata": {},
   "source": [
    "### Passo 1: Extração do atributo TF-IDF"
   ]
  },
  {
   "cell_type": "code",
   "execution_count": 9,
   "id": "4b202dc6",
   "metadata": {},
   "outputs": [],
   "source": [
    "tfidf_v1 = TfidfVectorizer()\n",
    "tfidf_v2 = TfidfVectorizer()"
   ]
  },
  {
   "cell_type": "code",
   "execution_count": 10,
   "id": "28e594a1",
   "metadata": {},
   "outputs": [],
   "source": [
    "x_concat_v1 = x_v1['antecedente'] + '\\n' + x_v1['comportamento'] + '\\n' + x_v1['consequencia'] + '\\n' + x_v1['efeito']\n",
    "x_concat_v2 = x_v2['antecedente'] + '\\n' + x_v2['comportamento'] + '\\n' + x_v2['consequencia'] + '\\n' + x_v2['efeito']"
   ]
  },
  {
   "cell_type": "code",
   "execution_count": 11,
   "id": "d428add6",
   "metadata": {},
   "outputs": [
    {
     "data": {
      "text/plain": [
       "TfidfVectorizer()"
      ]
     },
     "execution_count": 11,
     "metadata": {},
     "output_type": "execute_result"
    }
   ],
   "source": [
    "tfidf_v1.fit(x_concat_v1)"
   ]
  },
  {
   "cell_type": "code",
   "execution_count": 12,
   "id": "98319e4e",
   "metadata": {},
   "outputs": [
    {
     "data": {
      "text/plain": [
       "TfidfVectorizer()"
      ]
     },
     "execution_count": 12,
     "metadata": {},
     "output_type": "execute_result"
    }
   ],
   "source": [
    "tfidf_v2.fit(x_concat_v2)"
   ]
  },
  {
   "cell_type": "code",
   "execution_count": 13,
   "id": "439745d0",
   "metadata": {},
   "outputs": [],
   "source": [
    "x_tfidf_v1 = {\n",
    "    'antecedente': tfidf_v1.transform(x_v1['antecedente']).toarray(),\n",
    "    'comportamento': tfidf_v1.transform(x_v1['comportamento']).toarray(),\n",
    "    'consequencia': tfidf_v1.transform(x_v1['consequencia']).toarray(),\n",
    "    'efeito': tfidf_v1.transform(x_v1['efeito']).toarray()\n",
    "}"
   ]
  },
  {
   "cell_type": "code",
   "execution_count": 14,
   "id": "686e6b6e",
   "metadata": {},
   "outputs": [],
   "source": [
    "x_tfidf_v2 = {\n",
    "    'antecedente': tfidf_v2.transform(x_v2['antecedente']).toarray(),\n",
    "    'comportamento': tfidf_v2.transform(x_v2['comportamento']).toarray(),\n",
    "    'consequencia': tfidf_v2.transform(x_v2['consequencia']).toarray(),\n",
    "    'efeito': tfidf_v2.transform(x_v2['efeito']).toarray()\n",
    "}"
   ]
  },
  {
   "cell_type": "code",
   "execution_count": 15,
   "id": "e7db3f97",
   "metadata": {},
   "outputs": [],
   "source": [
    "x_features_v1 = np.stack(\n",
    "    [\n",
    "        x_tfidf_v1['antecedente'],\n",
    "        x_tfidf_v1['comportamento'],\n",
    "        x_tfidf_v1['consequencia'],\n",
    "        x_tfidf_v1['efeito']\n",
    "    ], \n",
    "    axis=2\n",
    ")"
   ]
  },
  {
   "cell_type": "code",
   "execution_count": 16,
   "id": "f2458578",
   "metadata": {},
   "outputs": [],
   "source": [
    "new_shape = x_features_v1.shape + (1,)\n",
    "x_features_v1 = np.reshape(x_features_v1, new_shape)"
   ]
  },
  {
   "cell_type": "code",
   "execution_count": 17,
   "id": "615cbf25",
   "metadata": {},
   "outputs": [],
   "source": [
    "x_features_v2 = np.stack(\n",
    "    [\n",
    "        x_tfidf_v2['antecedente'],\n",
    "        x_tfidf_v2['comportamento'],\n",
    "        x_tfidf_v2['consequencia'],\n",
    "        x_tfidf_v2['efeito']\n",
    "    ], \n",
    "    axis=2\n",
    ")"
   ]
  },
  {
   "cell_type": "code",
   "execution_count": 18,
   "id": "7c174cdc",
   "metadata": {},
   "outputs": [],
   "source": [
    "new_shape = x_features_v2.shape + (1,)\n",
    "x_features_v2 = np.reshape(x_features_v2, new_shape)"
   ]
  },
  {
   "cell_type": "code",
   "execution_count": 19,
   "id": "e3c4f371",
   "metadata": {},
   "outputs": [
    {
     "name": "stdout",
     "output_type": "stream",
     "text": [
      "Shape V1 = (185, 694, 4, 1)\n",
      "Shape V2 = (185, 644, 4, 1)\n"
     ]
    }
   ],
   "source": [
    "print('Shape V1 = {}'.format(x_features_v1.shape))\n",
    "print('Shape V2 = {}'.format(x_features_v2.shape))"
   ]
  },
  {
   "cell_type": "markdown",
   "id": "f3feee65",
   "metadata": {},
   "source": [
    "### Passo 2: Mapear X para números"
   ]
  },
  {
   "cell_type": "code",
   "execution_count": 20,
   "id": "e02aa653",
   "metadata": {},
   "outputs": [],
   "source": [
    "y_map = {\n",
    "    'p-': 0,\n",
    "    'p+': 1,\n",
    "    'ext': 2,\n",
    "    'r-': 3,\n",
    "    'r+': 4\n",
    "}"
   ]
  },
  {
   "cell_type": "code",
   "execution_count": 21,
   "id": "8e1f7c20",
   "metadata": {},
   "outputs": [],
   "source": [
    "y_code_v1 = y_v1.map(y_map)\n",
    "y_code_v2 = y_v2.map(y_map)"
   ]
  },
  {
   "cell_type": "markdown",
   "id": "2028e5c7",
   "metadata": {},
   "source": [
    "### Passo 3: Transformar em uma codificação \"One hot\""
   ]
  },
  {
   "cell_type": "code",
   "execution_count": 22,
   "id": "f979f667",
   "metadata": {},
   "outputs": [],
   "source": [
    "x_train_v1, x_test_v1, y_train_v1, y_test_v1 = train_test_split_per_class(x_features_v1, y_code_v1.to_numpy())\n",
    "x_train_v2, x_test_v2, y_train_v2, y_test_v2 = train_test_split_per_class(x_features_v2, y_code_v2.to_numpy())"
   ]
  },
  {
   "cell_type": "code",
   "execution_count": 23,
   "id": "86ef8c40",
   "metadata": {},
   "outputs": [],
   "source": [
    "y_train_one_hot_v1 = tf.one_hot(y_train_v1, 5)\n",
    "y_test_one_hot_v1  = tf.one_hot(y_test_v1, 5)\n",
    "y_train_one_hot_v2 = tf.one_hot(y_train_v2, 5)\n",
    "y_test_one_hot_v2  = tf.one_hot(y_test_v2, 5)"
   ]
  },
  {
   "cell_type": "markdown",
   "id": "8084571d",
   "metadata": {},
   "source": [
    "### Passo 4.1: Rede Neural aplicada a base V1"
   ]
  },
  {
   "cell_type": "code",
   "execution_count": 24,
   "id": "0855aad6",
   "metadata": {},
   "outputs": [],
   "source": [
    "model_v1 = tf.keras.Sequential([\n",
    "    tf.keras.layers.Conv2D(64, 7, activation='relu', input_shape=(x_features_v1.shape[1],x_features_v1.shape[2], x_features_v1.shape[3]), padding='same'),\n",
    "    tf.keras.layers.MaxPooling2D(2),\n",
    "    tf.keras.layers.Flatten(),\n",
    "    tf.keras.layers.Dense(128, activation='relu'),\n",
    "    tf.keras.layers.Dense(256, activation='relu'),\n",
    "    tf.keras.layers.Dense(128, activation='relu'),\n",
    "    tf.keras.layers.Dense(64, activation='relu'),\n",
    "    tf.keras.layers.Dense(5, activation='softmax'),\n",
    "])"
   ]
  },
  {
   "cell_type": "code",
   "execution_count": 25,
   "id": "01be13ca",
   "metadata": {},
   "outputs": [
    {
     "name": "stdout",
     "output_type": "stream",
     "text": [
      "Model: \"sequential\"\n",
      "_________________________________________________________________\n",
      " Layer (type)                Output Shape              Param #   \n",
      "=================================================================\n",
      " conv2d (Conv2D)             (None, 694, 4, 64)        3200      \n",
      "                                                                 \n",
      " max_pooling2d (MaxPooling2D  (None, 347, 2, 64)       0         \n",
      " )                                                               \n",
      "                                                                 \n",
      " flatten (Flatten)           (None, 44416)             0         \n",
      "                                                                 \n",
      " dense (Dense)               (None, 128)               5685376   \n",
      "                                                                 \n",
      " dense_1 (Dense)             (None, 256)               33024     \n",
      "                                                                 \n",
      " dense_2 (Dense)             (None, 128)               32896     \n",
      "                                                                 \n",
      " dense_3 (Dense)             (None, 64)                8256      \n",
      "                                                                 \n",
      " dense_4 (Dense)             (None, 5)                 325       \n",
      "                                                                 \n",
      "=================================================================\n",
      "Total params: 5,763,077\n",
      "Trainable params: 5,763,077\n",
      "Non-trainable params: 0\n",
      "_________________________________________________________________\n"
     ]
    }
   ],
   "source": [
    "model_v1.summary()"
   ]
  },
  {
   "cell_type": "code",
   "execution_count": 26,
   "id": "8fd4d1ab",
   "metadata": {},
   "outputs": [],
   "source": [
    "model_v1.compile(optimizer = 'adam', loss='binary_crossentropy', metrics=['accuracy'])"
   ]
  },
  {
   "cell_type": "code",
   "execution_count": 27,
   "id": "8fa9684e",
   "metadata": {},
   "outputs": [
    {
     "name": "stdout",
     "output_type": "stream",
     "text": [
      "Epoch 1/15\n"
     ]
    },
    {
     "name": "stderr",
     "output_type": "stream",
     "text": [
      "c:\\users\\panto\\appdata\\local\\programs\\python\\python39\\lib\\site-packages\\tensorflow\\python\\data\\ops\\structured_function.py:264: UserWarning: Even though the `tf.config.experimental_run_functions_eagerly` option is set, this option does not apply to tf.data functions. To force eager execution of tf.data functions, please use `tf.data.experimental.enable_debug_mode()`.\n",
      "  warnings.warn(\n"
     ]
    },
    {
     "name": "stdout",
     "output_type": "stream",
     "text": [
      "4/4 [==============================] - 1s 151ms/step - loss: 0.6592 - accuracy: 0.3071\n",
      "Epoch 2/15\n",
      "4/4 [==============================] - 1s 155ms/step - loss: 0.4786 - accuracy: 0.2362\n",
      "Epoch 3/15\n",
      "4/4 [==============================] - 1s 156ms/step - loss: 0.4211 - accuracy: 0.4882\n",
      "Epoch 4/15\n",
      "4/4 [==============================] - 1s 153ms/step - loss: 0.3621 - accuracy: 0.6063\n",
      "Epoch 5/15\n",
      "4/4 [==============================] - 1s 156ms/step - loss: 0.3095 - accuracy: 0.6693\n",
      "Epoch 6/15\n",
      "4/4 [==============================] - 1s 151ms/step - loss: 0.2618 - accuracy: 0.6693\n",
      "Epoch 7/15\n",
      "4/4 [==============================] - 1s 155ms/step - loss: 0.2157 - accuracy: 0.7244\n",
      "Epoch 8/15\n",
      "4/4 [==============================] - 1s 160ms/step - loss: 0.1733 - accuracy: 0.8898\n",
      "Epoch 9/15\n",
      "4/4 [==============================] - 1s 164ms/step - loss: 0.1290 - accuracy: 0.9213\n",
      "Epoch 10/15\n",
      "4/4 [==============================] - 1s 164ms/step - loss: 0.0889 - accuracy: 0.9370\n",
      "Epoch 11/15\n",
      "4/4 [==============================] - 1s 155ms/step - loss: 0.0653 - accuracy: 0.9528\n",
      "Epoch 12/15\n",
      "4/4 [==============================] - 1s 151ms/step - loss: 0.0389 - accuracy: 0.9843\n",
      "Epoch 13/15\n",
      "4/4 [==============================] - 1s 154ms/step - loss: 0.0240 - accuracy: 1.0000\n",
      "Epoch 14/15\n",
      "4/4 [==============================] - 1s 157ms/step - loss: 0.0256 - accuracy: 0.9843\n",
      "Epoch 15/15\n",
      "4/4 [==============================] - 1s 153ms/step - loss: 0.0214 - accuracy: 1.0000\n"
     ]
    },
    {
     "data": {
      "text/plain": [
       "<keras.callbacks.History at 0x27dc32f4cd0>"
      ]
     },
     "execution_count": 27,
     "metadata": {},
     "output_type": "execute_result"
    }
   ],
   "source": [
    "model_v1.fit(x_train_v1, y_train_one_hot_v1, epochs=15, batch_size=32, verbose=1)"
   ]
  },
  {
   "cell_type": "code",
   "execution_count": 28,
   "id": "e3de9ba8",
   "metadata": {},
   "outputs": [
    {
     "name": "stdout",
     "output_type": "stream",
     "text": [
      "2/2 [==============================] - 0s 50ms/step - loss: 0.3670 - accuracy: 0.8103\n"
     ]
    }
   ],
   "source": [
    "results_v1 = model_v1.evaluate(x_test_v1, y_test_one_hot_v1)"
   ]
  },
  {
   "cell_type": "markdown",
   "id": "7e9214e0",
   "metadata": {},
   "source": [
    "### Passo 4.2: Rede Neural aplicada a base V2"
   ]
  },
  {
   "cell_type": "code",
   "execution_count": 29,
   "id": "2663f3a7",
   "metadata": {},
   "outputs": [],
   "source": [
    "model_v2 = tf.keras.Sequential([\n",
    "    tf.keras.layers.Conv2D(64, 7, activation='relu', input_shape=(x_features_v2.shape[1],x_features_v2.shape[2], x_features_v2.shape[3]), padding='same'),\n",
    "    tf.keras.layers.MaxPooling2D(2),\n",
    "    tf.keras.layers.Flatten(),\n",
    "    tf.keras.layers.Dense(128, activation='relu'),\n",
    "    tf.keras.layers.Dense(256, activation='relu'),\n",
    "    tf.keras.layers.Dense(128, activation='relu'),\n",
    "    tf.keras.layers.Dense(64, activation='relu'),\n",
    "    tf.keras.layers.Dense(5, activation='softmax'),\n",
    "])"
   ]
  },
  {
   "cell_type": "code",
   "execution_count": 30,
   "id": "1e47543f",
   "metadata": {},
   "outputs": [],
   "source": [
    "model_v2.compile(optimizer = 'adam', loss='binary_crossentropy', metrics=['accuracy'])"
   ]
  },
  {
   "cell_type": "code",
   "execution_count": 31,
   "id": "2779e957",
   "metadata": {},
   "outputs": [
    {
     "name": "stdout",
     "output_type": "stream",
     "text": [
      "Epoch 1/15\n",
      "4/4 [==============================] - 1s 144ms/step - loss: 0.6510 - accuracy: 0.3150\n",
      "Epoch 2/15\n",
      "4/4 [==============================] - 1s 152ms/step - loss: 0.4760 - accuracy: 0.2756\n",
      "Epoch 3/15\n",
      "4/4 [==============================] - 1s 143ms/step - loss: 0.4338 - accuracy: 0.4016\n",
      "Epoch 4/15\n",
      "4/4 [==============================] - 1s 143ms/step - loss: 0.4072 - accuracy: 0.4409\n",
      "Epoch 5/15\n",
      "4/4 [==============================] - 1s 144ms/step - loss: 0.3654 - accuracy: 0.5906\n",
      "Epoch 6/15\n",
      "4/4 [==============================] - 1s 142ms/step - loss: 0.3142 - accuracy: 0.8740\n",
      "Epoch 7/15\n",
      "4/4 [==============================] - 1s 145ms/step - loss: 0.2454 - accuracy: 0.8740\n",
      "Epoch 8/15\n",
      "4/4 [==============================] - 1s 142ms/step - loss: 0.1801 - accuracy: 0.8740\n",
      "Epoch 9/15\n",
      "4/4 [==============================] - 1s 142ms/step - loss: 0.1264 - accuracy: 0.8898\n",
      "Epoch 10/15\n",
      "4/4 [==============================] - 1s 143ms/step - loss: 0.0882 - accuracy: 0.9134\n",
      "Epoch 11/15\n",
      "4/4 [==============================] - 1s 140ms/step - loss: 0.0674 - accuracy: 0.9213\n",
      "Epoch 12/15\n",
      "4/4 [==============================] - 1s 143ms/step - loss: 0.0475 - accuracy: 0.9606\n",
      "Epoch 13/15\n",
      "4/4 [==============================] - 1s 139ms/step - loss: 0.0306 - accuracy: 0.9843\n",
      "Epoch 14/15\n",
      "4/4 [==============================] - 1s 145ms/step - loss: 0.0230 - accuracy: 1.0000\n",
      "Epoch 15/15\n",
      "4/4 [==============================] - 1s 141ms/step - loss: 0.0153 - accuracy: 1.0000\n"
     ]
    },
    {
     "data": {
      "text/plain": [
       "<keras.callbacks.History at 0x27dc50a1e50>"
      ]
     },
     "execution_count": 31,
     "metadata": {},
     "output_type": "execute_result"
    }
   ],
   "source": [
    "model_v2.fit(x_train_v2, y_train_one_hot_v2, epochs=15, batch_size=32, verbose=1)"
   ]
  },
  {
   "cell_type": "code",
   "execution_count": 32,
   "id": "1e35071d",
   "metadata": {},
   "outputs": [
    {
     "name": "stdout",
     "output_type": "stream",
     "text": [
      "2/2 [==============================] - 0s 54ms/step - loss: 0.4092 - accuracy: 0.7241\n"
     ]
    }
   ],
   "source": [
    "results_v2 = model_v2.evaluate(x_test_v2, y_test_one_hot_v2)"
   ]
  },
  {
   "cell_type": "code",
   "execution_count": 33,
   "id": "d650c586",
   "metadata": {},
   "outputs": [],
   "source": [
    "y_pred_v1 = np.argmax(model_v1.predict(x_test_v1), axis=1)\n",
    "y_pred_v2 = np.argmax(model_v2.predict(x_test_v2), axis=1)"
   ]
  },
  {
   "cell_type": "code",
   "execution_count": 34,
   "id": "44dbd532",
   "metadata": {},
   "outputs": [],
   "source": [
    "y_true_v1 = np.argmax(y_test_one_hot_v2.numpy(), axis=1)\n",
    "y_true_v2 = np.argmax(y_test_one_hot_v2.numpy(), axis=1)"
   ]
  },
  {
   "cell_type": "code",
   "execution_count": 35,
   "id": "6d54a983",
   "metadata": {},
   "outputs": [
    {
     "name": "stdout",
     "output_type": "stream",
     "text": [
      "              precision    recall  f1-score   support\n",
      "\n",
      "           0       0.33      0.25      0.29         4\n",
      "           1       0.72      0.87      0.79        15\n",
      "           2       0.00      0.00      0.00         3\n",
      "           3       0.93      0.93      0.93        14\n",
      "           4       0.91      0.91      0.91        22\n",
      "\n",
      "    accuracy                           0.81        58\n",
      "   macro avg       0.58      0.59      0.58        58\n",
      "weighted avg       0.78      0.81      0.79        58\n",
      "\n"
     ]
    }
   ],
   "source": [
    "print(classification_report(y_true_v1, y_pred_v1))"
   ]
  },
  {
   "cell_type": "code",
   "execution_count": 36,
   "id": "9d418454",
   "metadata": {},
   "outputs": [
    {
     "name": "stdout",
     "output_type": "stream",
     "text": [
      "              precision    recall  f1-score   support\n",
      "\n",
      "           0       0.33      0.25      0.29         4\n",
      "           1       0.75      0.80      0.77        15\n",
      "           2       0.00      0.00      0.00         3\n",
      "           3       0.67      1.00      0.80        14\n",
      "           4       0.88      0.68      0.77        22\n",
      "\n",
      "    accuracy                           0.72        58\n",
      "   macro avg       0.53      0.55      0.53        58\n",
      "weighted avg       0.71      0.72      0.70        58\n",
      "\n"
     ]
    }
   ],
   "source": [
    "print(classification_report(y_true_v2, y_pred_v2))"
   ]
  },
  {
   "cell_type": "markdown",
   "id": "b46c9f68",
   "metadata": {},
   "source": [
    "### Passo 5.1: Cross Validation com a base V1"
   ]
  },
  {
   "cell_type": "code",
   "execution_count": 37,
   "id": "f8361d57",
   "metadata": {},
   "outputs": [
    {
     "name": "stdout",
     "output_type": "stream",
     "text": [
      "Fold 0/7\n"
     ]
    },
    {
     "name": "stderr",
     "output_type": "stream",
     "text": [
      "c:\\users\\panto\\appdata\\local\\programs\\python\\python39\\lib\\site-packages\\tensorflow\\python\\data\\ops\\structured_function.py:264: UserWarning: Even though the `tf.config.experimental_run_functions_eagerly` option is set, this option does not apply to tf.data functions. To force eager execution of tf.data functions, please use `tf.data.experimental.enable_debug_mode()`.\n",
      "  warnings.warn(\n"
     ]
    },
    {
     "name": "stdout",
     "output_type": "stream",
     "text": [
      "1/1 [==============================] - 0s 78ms/step - loss: 0.2535 - accuracy: 0.8621\n",
      "Fold 1/7\n",
      "1/1 [==============================] - 0s 83ms/step - loss: 0.2138 - accuracy: 0.8571\n",
      "Fold 2/7\n",
      "1/1 [==============================] - 0s 78ms/step - loss: 0.1909 - accuracy: 0.8889\n",
      "Fold 3/7\n",
      "1/1 [==============================] - 0s 74ms/step - loss: 0.2404 - accuracy: 0.8077\n",
      "Fold 4/7\n",
      "1/1 [==============================] - 0s 77ms/step - loss: 0.2543 - accuracy: 0.6400\n",
      "Fold 5/7\n",
      "1/1 [==============================] - 0s 89ms/step - loss: 0.1913 - accuracy: 0.8400\n",
      "Fold 6/7\n",
      "1/1 [==============================] - 0s 106ms/step - loss: 0.2959 - accuracy: 0.8000\n"
     ]
    }
   ],
   "source": [
    "results = cross_validation_per_class(x_features_v1, y_code_v1.to_numpy(), model_v1, 15, 'adam','binary_crossentropy',['accuracy'], 10, 32)"
   ]
  },
  {
   "cell_type": "code",
   "execution_count": 38,
   "id": "99809bd7",
   "metadata": {},
   "outputs": [],
   "source": [
    "accuracy_v1 = list(map(list, zip(*results)))[1]"
   ]
  },
  {
   "cell_type": "markdown",
   "id": "23f9a85f",
   "metadata": {},
   "source": [
    "### Passo 5.2: Cross Validation com a base V2"
   ]
  },
  {
   "cell_type": "code",
   "execution_count": 39,
   "id": "f6e82c49",
   "metadata": {},
   "outputs": [
    {
     "name": "stdout",
     "output_type": "stream",
     "text": [
      "Fold 0/7\n",
      "1/1 [==============================] - 0s 86ms/step - loss: 0.8541 - accuracy: 0.6897\n",
      "Fold 1/7\n",
      "1/1 [==============================] - 0s 70ms/step - loss: 0.2649 - accuracy: 0.8571\n",
      "Fold 2/7\n",
      "1/1 [==============================] - 0s 73ms/step - loss: 0.2499 - accuracy: 0.8148\n",
      "Fold 3/7\n",
      "1/1 [==============================] - 0s 71ms/step - loss: 0.4024 - accuracy: 0.8077\n",
      "Fold 4/7\n",
      "1/1 [==============================] - 0s 72ms/step - loss: 0.3775 - accuracy: 0.8000\n",
      "Fold 5/7\n",
      "1/1 [==============================] - 0s 68ms/step - loss: 0.2065 - accuracy: 0.8000\n",
      "Fold 6/7\n",
      "1/1 [==============================] - 0s 74ms/step - loss: 0.5632 - accuracy: 0.7600\n"
     ]
    }
   ],
   "source": [
    "results = cross_validation_per_class(x_features_v2, y_code_v2.to_numpy(), model_v2, 10, 'adam','binary_crossentropy',['accuracy'], 15, 32)"
   ]
  },
  {
   "cell_type": "code",
   "execution_count": 40,
   "id": "a3c1e02e",
   "metadata": {},
   "outputs": [],
   "source": [
    "accuracy_v2 = list(map(list, zip(*results)))[1]"
   ]
  },
  {
   "cell_type": "code",
   "execution_count": 41,
   "id": "525b67a0",
   "metadata": {},
   "outputs": [
    {
     "name": "stdout",
     "output_type": "stream",
     "text": [
      "Média V1: 0.813684710434505\n"
     ]
    }
   ],
   "source": [
    "print(\"Média V1: {}\".format(mean(accuracy_v1)))"
   ]
  },
  {
   "cell_type": "code",
   "execution_count": 42,
   "id": "4f6a0b26",
   "metadata": {},
   "outputs": [
    {
     "name": "stdout",
     "output_type": "stream",
     "text": [
      "Mediana V1: 0.8399999737739563\n"
     ]
    }
   ],
   "source": [
    "print(\"Mediana V1: {}\".format(median(accuracy_v1)))"
   ]
  },
  {
   "cell_type": "code",
   "execution_count": 43,
   "id": "8228294f",
   "metadata": {},
   "outputs": [
    {
     "name": "stdout",
     "output_type": "stream",
     "text": [
      "Desvio Padrão Populacional V1: 0.07650151467457779\n"
     ]
    }
   ],
   "source": [
    "print(\"Desvio Padrão Populacional V1: {}\".format(pstdev(accuracy_v1)))"
   ]
  },
  {
   "cell_type": "code",
   "execution_count": 44,
   "id": "8a6f937c",
   "metadata": {},
   "outputs": [
    {
     "name": "stdout",
     "output_type": "stream",
     "text": [
      "Desvio padrão amostral V1: 0.0826310799402304\n"
     ]
    }
   ],
   "source": [
    "print(\"Desvio padrão amostral V1: {}\".format(stdev(accuracy_v1)))"
   ]
  },
  {
   "cell_type": "code",
   "execution_count": 45,
   "id": "7878fab4",
   "metadata": {},
   "outputs": [
    {
     "name": "stdout",
     "output_type": "stream",
     "text": [
      "Média V2: 0.7899007371493748\n"
     ]
    }
   ],
   "source": [
    "print(\"Média V2: {}\".format(mean(accuracy_v2)))"
   ]
  },
  {
   "cell_type": "code",
   "execution_count": 46,
   "id": "7920888c",
   "metadata": {},
   "outputs": [
    {
     "name": "stdout",
     "output_type": "stream",
     "text": [
      "Mediana V2: 0.800000011920929\n"
     ]
    }
   ],
   "source": [
    "print(\"Mediana V2: {}\".format(median(accuracy_v2)))"
   ]
  },
  {
   "cell_type": "code",
   "execution_count": 47,
   "id": "a74d8e62",
   "metadata": {},
   "outputs": [
    {
     "name": "stdout",
     "output_type": "stream",
     "text": [
      "Desvio Padrão Populacional V2: 0.04870607197842037\n"
     ]
    }
   ],
   "source": [
    "print(\"Desvio Padrão Populacional V2: {}\".format(pstdev(accuracy_v2)))"
   ]
  },
  {
   "cell_type": "code",
   "execution_count": 48,
   "id": "263f4c5b",
   "metadata": {},
   "outputs": [
    {
     "name": "stdout",
     "output_type": "stream",
     "text": [
      "Desvio padrão amostral V2: 0.05260857048835526\n"
     ]
    }
   ],
   "source": [
    "print(\"Desvio padrão amostral V2: {}\".format(stdev(accuracy_v2)))"
   ]
  },
  {
   "cell_type": "markdown",
   "id": "5691091c",
   "metadata": {},
   "source": [
    "### Passo 6.1: Criar rede neural com base V1 completa (sem divisão de treino e teste)"
   ]
  },
  {
   "cell_type": "code",
   "execution_count": 49,
   "id": "f6cff563",
   "metadata": {},
   "outputs": [],
   "source": [
    "y_one_hot_v1 = tf.one_hot(y_code_v1.to_numpy(), 5)"
   ]
  },
  {
   "cell_type": "code",
   "execution_count": 50,
   "id": "f5d4e4bd",
   "metadata": {},
   "outputs": [],
   "source": [
    "model_v1_final = tf.keras.models.clone_model(model_v1)"
   ]
  },
  {
   "cell_type": "code",
   "execution_count": 51,
   "id": "1cfb4a1b",
   "metadata": {},
   "outputs": [],
   "source": [
    "model_v1_final.compile(optimizer = 'adam', loss='binary_crossentropy', metrics=['accuracy'])"
   ]
  },
  {
   "cell_type": "code",
   "execution_count": 52,
   "id": "0012b22f",
   "metadata": {},
   "outputs": [
    {
     "name": "stdout",
     "output_type": "stream",
     "text": [
      "Epoch 1/10\n",
      "6/6 [==============================] - 1s 149ms/step - loss: 0.6216 - accuracy: 0.3568\n",
      "Epoch 2/10\n",
      "6/6 [==============================] - 1s 143ms/step - loss: 0.4388 - accuracy: 0.4595\n",
      "Epoch 3/10\n",
      "6/6 [==============================] - 1s 142ms/step - loss: 0.3775 - accuracy: 0.6703\n",
      "Epoch 4/10\n",
      "6/6 [==============================] - 1s 144ms/step - loss: 0.2856 - accuracy: 0.8378\n",
      "Epoch 5/10\n",
      "6/6 [==============================] - 1s 144ms/step - loss: 0.2002 - accuracy: 0.8378\n",
      "Epoch 6/10\n",
      "6/6 [==============================] - 1s 144ms/step - loss: 0.1383 - accuracy: 0.8703\n",
      "Epoch 7/10\n",
      "6/6 [==============================] - 1s 145ms/step - loss: 0.0998 - accuracy: 0.9189\n",
      "Epoch 8/10\n",
      "6/6 [==============================] - 1s 147ms/step - loss: 0.0709 - accuracy: 0.9351\n",
      "Epoch 9/10\n",
      "6/6 [==============================] - 1s 148ms/step - loss: 0.0564 - accuracy: 0.9514\n",
      "Epoch 10/10\n",
      "6/6 [==============================] - 1s 144ms/step - loss: 0.0338 - accuracy: 0.9676\n"
     ]
    },
    {
     "data": {
      "text/plain": [
       "<keras.callbacks.History at 0x27dc4c239d0>"
      ]
     },
     "execution_count": 52,
     "metadata": {},
     "output_type": "execute_result"
    }
   ],
   "source": [
    "model_v1_final.fit(x_features_v1, y_one_hot_v1, epochs=10, batch_size=32, verbose=1)"
   ]
  },
  {
   "cell_type": "markdown",
   "id": "d6ac2278",
   "metadata": {},
   "source": [
    "### Passo 6.2: Criar rede neural com base V2 completa (sem divisão de treino e teste)"
   ]
  },
  {
   "cell_type": "code",
   "execution_count": 53,
   "id": "394f7d25",
   "metadata": {},
   "outputs": [],
   "source": [
    "y_one_hot_v2 = tf.one_hot(y_code_v2.to_numpy(), 5)"
   ]
  },
  {
   "cell_type": "code",
   "execution_count": 54,
   "id": "fb0f0aea",
   "metadata": {},
   "outputs": [],
   "source": [
    "model_v2_final = tf.keras.models.clone_model(model_v2)"
   ]
  },
  {
   "cell_type": "code",
   "execution_count": 55,
   "id": "c70ae03c",
   "metadata": {},
   "outputs": [],
   "source": [
    "model_v2_final.compile(optimizer = 'adam', loss='binary_crossentropy', metrics=['accuracy'])"
   ]
  },
  {
   "cell_type": "code",
   "execution_count": 56,
   "id": "352966aa",
   "metadata": {},
   "outputs": [
    {
     "name": "stdout",
     "output_type": "stream",
     "text": [
      "Epoch 1/15\n",
      "6/6 [==============================] - 1s 139ms/step - loss: 0.6333 - accuracy: 0.3784\n",
      "Epoch 2/15\n",
      "6/6 [==============================] - 1s 139ms/step - loss: 0.4729 - accuracy: 0.3946\n",
      "Epoch 3/15\n",
      "6/6 [==============================] - 1s 135ms/step - loss: 0.4215 - accuracy: 0.5243\n",
      "Epoch 4/15\n",
      "6/6 [==============================] - 1s 136ms/step - loss: 0.3880 - accuracy: 0.5297\n",
      "Epoch 5/15\n",
      "6/6 [==============================] - 1s 137ms/step - loss: 0.3257 - accuracy: 0.6378\n",
      "Epoch 6/15\n",
      "6/6 [==============================] - 1s 137ms/step - loss: 0.2590 - accuracy: 0.7838\n",
      "Epoch 7/15\n",
      "6/6 [==============================] - 1s 141ms/step - loss: 0.2024 - accuracy: 0.7946\n",
      "Epoch 8/15\n",
      "6/6 [==============================] - 1s 143ms/step - loss: 0.1428 - accuracy: 0.8486\n",
      "Epoch 9/15\n",
      "6/6 [==============================] - 1s 140ms/step - loss: 0.1007 - accuracy: 0.9189\n",
      "Epoch 10/15\n",
      "6/6 [==============================] - 1s 137ms/step - loss: 0.0632 - accuracy: 0.9568\n",
      "Epoch 11/15\n",
      "6/6 [==============================] - 1s 136ms/step - loss: 0.0402 - accuracy: 0.9892\n",
      "Epoch 12/15\n",
      "6/6 [==============================] - 1s 143ms/step - loss: 0.0205 - accuracy: 1.0000\n",
      "Epoch 13/15\n",
      "6/6 [==============================] - 1s 157ms/step - loss: 0.0095 - accuracy: 1.0000\n",
      "Epoch 14/15\n",
      "6/6 [==============================] - 1s 152ms/step - loss: 0.0055 - accuracy: 1.0000\n",
      "Epoch 15/15\n",
      "6/6 [==============================] - 1s 145ms/step - loss: 0.0026 - accuracy: 1.0000\n"
     ]
    },
    {
     "data": {
      "text/plain": [
       "<keras.callbacks.History at 0x27dc337dd90>"
      ]
     },
     "execution_count": 56,
     "metadata": {},
     "output_type": "execute_result"
    }
   ],
   "source": [
    "model_v2_final.fit(x_features_v2, y_one_hot_v2, epochs=15, batch_size=32, verbose=1)"
   ]
  },
  {
   "cell_type": "markdown",
   "id": "9bf935a8",
   "metadata": {},
   "source": [
    "### Passo 7: Salvar redes neurais"
   ]
  },
  {
   "cell_type": "code",
   "execution_count": 57,
   "id": "54a641cf",
   "metadata": {},
   "outputs": [],
   "source": [
    "model_v1_final.save_weights('./checkpoints_lemmanization/my_model.h5')\n",
    "model_v2_final.save_weights('./checkpoints_stemming/my_model.h5')"
   ]
  },
  {
   "cell_type": "code",
   "execution_count": 58,
   "id": "5bd2b220",
   "metadata": {},
   "outputs": [
    {
     "data": {
      "text/plain": [
       "['./checkpoints_stemming/tfidf.joblib']"
      ]
     },
     "execution_count": 58,
     "metadata": {},
     "output_type": "execute_result"
    }
   ],
   "source": [
    "dump(tfidf_v1, './checkpoints_lemmanization/tfidf.joblib')\n",
    "dump(tfidf_v2, './checkpoints_stemming/tfidf.joblib')"
   ]
  },
  {
   "cell_type": "code",
   "execution_count": null,
   "id": "f7c28bde",
   "metadata": {},
   "outputs": [],
   "source": []
  }
 ],
 "metadata": {
  "kernelspec": {
   "display_name": "Python 3 (ipykernel)",
   "language": "python",
   "name": "python3"
  },
  "language_info": {
   "codemirror_mode": {
    "name": "ipython",
    "version": 3
   },
   "file_extension": ".py",
   "mimetype": "text/x-python",
   "name": "python",
   "nbconvert_exporter": "python",
   "pygments_lexer": "ipython3",
   "version": "3.9.6"
  }
 },
 "nbformat": 4,
 "nbformat_minor": 5
}
